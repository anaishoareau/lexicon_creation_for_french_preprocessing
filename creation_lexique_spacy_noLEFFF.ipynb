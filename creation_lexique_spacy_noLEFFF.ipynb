{
 "cells": [
  {
   "cell_type": "markdown",
   "metadata": {},
   "source": [
    "# Création du fichier lexique_spacy_noLEFFF.txt\n",
    "\n",
    "Création d'un lexique avec les mots du lexique du module spaCy qui ne sont pas dans la LEFFF_TABLE qui seront tagués avec le StanfordPOSTagger."
   ]
  },
  {
   "cell_type": "markdown",
   "metadata": {},
   "source": [
    "## Imports"
   ]
  },
  {
   "cell_type": "code",
   "execution_count": null,
   "metadata": {},
   "outputs": [],
   "source": [
    "# -*- coding: utf-8 -*-\n",
    "import nltk\n",
    "from nltk.tag import StanfordPOSTagger\n",
    "import csv\n",
    "import os"
   ]
  },
  {
   "cell_type": "markdown",
   "metadata": {},
   "source": [
    "## Initialisation du StanfordPOSTagger\n",
    "\n",
    "Il faut peut-être changer les path pour le StanfordPOSTagger et Java (JRE)."
   ]
  },
  {
   "cell_type": "code",
   "execution_count": null,
   "metadata": {},
   "outputs": [],
   "source": [
    "jar = './stanford-postagger-full-2018-10-16/stanford-postagger-3.9.2.jar'\n",
    "model = './stanford-postagger-full-2018-10-16/models/french.tagger'\n",
    "java_path = \"C:/Program Files (x86)/Java/jre1.8.0_241/bin/java.exe\"\n",
    "\n",
    "os.environ['JAVAHOME'] = java_path\n",
    "pos_tagger = StanfordPOSTagger(model, jar, encoding='utf8' )"
   ]
  },
  {
   "cell_type": "markdown",
   "metadata": {},
   "source": [
    "## Chargement de la LEFFF_TABLE"
   ]
  },
  {
   "cell_type": "code",
   "execution_count": null,
   "metadata": {},
   "outputs": [],
   "source": [
    "from french_lefff_lemmatizer.french_lefff_lemmatizer import FrenchLefffLemmatizer\n",
    "lemmatizer = FrenchLefffLemmatizer()\n",
    "tab = lemmatizer.LEFFF_TABLE\n",
    "\n",
    "mots_compare = tab.keys()"
   ]
  },
  {
   "cell_type": "markdown",
   "metadata": {},
   "source": [
    "## Chargement de lexique_spacy"
   ]
  },
  {
   "cell_type": "code",
   "execution_count": null,
   "metadata": {},
   "outputs": [],
   "source": [
    "lexique_temporaire = []\n",
    "lexique_spacy = []\n",
    "\n",
    "with open('./initial_data/lexique_spacy.txt') as f:\n",
    "        sp = csv.reader(f)\n",
    "        for row in sp:\n",
    "            lexique_temporaire.append(row)\n",
    "        lexique_temporaire = lexique_temporaire[0]\n",
    "\n",
    "for words in lexique_temporaire:\n",
    "    words_separated = words.split(':')\n",
    "    row = []\n",
    "    for word in words_separated:\n",
    "        row.append(word)\n",
    "    lexique_spacy.append(row)"
   ]
  },
  {
   "cell_type": "markdown",
   "metadata": {},
   "source": [
    "## Creation de lexique_spacy_no_LEFFF\n",
    "\n",
    "On ajoute les taggs générés par le StanfordPOSTagger pour chaque mot du fichier (qui est dans le lexique_spacy et pas dans la LEFFF_TABLE)."
   ]
  },
  {
   "cell_type": "code",
   "execution_count": null,
   "metadata": {
    "scrolled": true
   },
   "outputs": [],
   "source": [
    "with open('./intermediate_data/lexique_spacy_noLEFFF.txt', 'w') as f:\n",
    "    for i in range(0,len(lexique_spacy)):\n",
    "        row_act = lexique_spacy[i]\n",
    "        \n",
    "        # On vérifie si le mot est présent dans la LEFFF_TABLE\n",
    "        presence = False\n",
    "        \n",
    "        for mot in mots_compare:\n",
    "            if row_act[0]==mot:\n",
    "                presence = True\n",
    "                break\n",
    "                \n",
    "        if presence == False:       \n",
    "            res = pos_tagger.tag([row_act[0]])\n",
    "            row_act.append(res[0][1])\n",
    "            f.write(row_act[0]+','+row_act[1]+','+row_act[2]+'\\n')\n",
    "        else:\n",
    "            presence = False\n"
   ]
  },
  {
   "cell_type": "code",
   "execution_count": null,
   "metadata": {},
   "outputs": [],
   "source": []
  }
 ],
 "metadata": {
  "kernelspec": {
   "display_name": "Python 3",
   "language": "python",
   "name": "python3"
  },
  "language_info": {
   "codemirror_mode": {
    "name": "ipython",
    "version": 3
   },
   "file_extension": ".py",
   "mimetype": "text/x-python",
   "name": "python",
   "nbconvert_exporter": "python",
   "pygments_lexer": "ipython3",
   "version": "3.7.6"
  },
  "toc": {
   "base_numbering": 1,
   "nav_menu": {},
   "number_sections": true,
   "sideBar": true,
   "skip_h1_title": false,
   "title_cell": "Table of Contents",
   "title_sidebar": "Contents",
   "toc_cell": false,
   "toc_position": {},
   "toc_section_display": true,
   "toc_window_display": false
  },
  "varInspector": {
   "cols": {
    "lenName": 16,
    "lenType": 16,
    "lenVar": 40
   },
   "kernels_config": {
    "python": {
     "delete_cmd_postfix": "",
     "delete_cmd_prefix": "del ",
     "library": "var_list.py",
     "varRefreshCmd": "print(var_dic_list())"
    },
    "r": {
     "delete_cmd_postfix": ") ",
     "delete_cmd_prefix": "rm(",
     "library": "var_list.r",
     "varRefreshCmd": "cat(var_dic_list()) "
    }
   },
   "types_to_exclude": [
    "module",
    "function",
    "builtin_function_or_method",
    "instance",
    "_Feature"
   ],
   "window_display": false
  }
 },
 "nbformat": 4,
 "nbformat_minor": 2
}
