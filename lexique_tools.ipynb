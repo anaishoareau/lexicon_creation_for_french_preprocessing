{
 "cells": [
  {
   "cell_type": "markdown",
   "metadata": {},
   "source": [
    "# Modification de lexique.txt"
   ]
  },
  {
   "cell_type": "markdown",
   "metadata": {},
   "source": [
    "## Classe LexiqueTools et ses méthodes pour la modification de lexique.txt"
   ]
  },
  {
   "cell_type": "code",
   "execution_count": 2,
   "metadata": {},
   "outputs": [],
   "source": [
    "class LexiqueTools(object):\n",
    "    \n",
    "    def __init__(self):\n",
    "\n",
    "        self.f = open('./data/lexique.txt','r')\n",
    "        self.lexique = dict(eval(self.f.read()))\n",
    "\n",
    "    # Méthode qui prend en argument une string \n",
    "    # qui renvoie False si le mot n'est pas dans le dictionnaire \n",
    "    # qui renvoie la valeur associée à la clé correspondante à la string sinon\n",
    "    def in_lexique(self, word):\n",
    "         if word in self.lexique.keys():\n",
    "             return self.lexique[word]\n",
    "         else:\n",
    "             return False\n",
    "    \n",
    "    # Methode de réécriture des lexiques\n",
    "    # Ne prend rien en argument et ne renvoie rien\n",
    "    # Doit être utilisée après les ajouts ou les suppressions\n",
    "    def lexique_rewrite(self):\n",
    "        self.f.write(str(self.lexique))\n",
    "\n",
    "    # Méthode qui prend en argument une string, son lemme associé, son tag\n",
    "    # qui ajoute ce nouvel élément au dictionnaire (ne fait rien s'il y est déjà)\n",
    "    # ne renvoie rien\n",
    "    def add_element(self,word, lemma, tag):\n",
    "        tag_list = ['v', 'nc', 'adj', 'c', 'npp', 'adv', 'det', 'pro', 'prep', 'i', 'ponct', 'cl', 'et']\n",
    "        if tag not in tag_list:\n",
    "            print(\"ERROR tag not in the list : 'v', 'nc', 'adj', 'c', 'npp', 'adv', 'det', 'pro', 'prep', 'i', 'ponct', 'cl', 'et'\")\n",
    "            return\n",
    "        else:\n",
    "            if word not in self.lexique.keys():\n",
    "                self.lexique[word] = {tag:lemma}\n",
    "            else:\n",
    "                self.lexique[word][tag]=lemma\n",
    "                    \n",
    "    # Méthode qui permet de supprimer un élement des lexiques\n",
    "    # Prend en argument le mot à supprimer et son tag (si on ne veut supprimer qu'une version du mot)\n",
    "    # Ne retourne rien\n",
    "    def remove_element(self, word, tag):\n",
    "        tag_list = ['v', 'nc', 'adj', 'c', 'npp', 'adv', 'det', 'pro', 'prep', 'i', 'ponct', 'cl', 'et']\n",
    "        if tag not in tag_list:\n",
    "            print(\"ERROR tag not in the list : 'v', 'nc', 'adj', 'c', 'npp', 'adv', 'det', 'pro', 'prep', 'i', 'ponct', 'cl', 'et'\")\n",
    "            return\n",
    "        else:\n",
    "            del self.lexique[word][tag]\n",
    "\n",
    "    # Méthode de mise à jour des lexiques (ajouts et réécriture) \n",
    "    # pour un dictionnaire correctement formé\n",
    "    # Prend en argument le dictionnaire des mots à ajouter et ne renvoie rien\n",
    "    def lexique_update(self,dictionary):\n",
    "        \n",
    "        for word in dictionary.keys():\n",
    "            for tag in dictionary[word].keys():\n",
    "                self.add_element(word, dictionary[word][tag],tag)\n",
    "                \n",
    "        self.lexique_rewrite()"
   ]
  },
  {
   "cell_type": "code",
   "execution_count": null,
   "metadata": {},
   "outputs": [],
   "source": []
  }
 ],
 "metadata": {
  "kernelspec": {
   "display_name": "Python 3",
   "language": "python",
   "name": "python3"
  },
  "language_info": {
   "codemirror_mode": {
    "name": "ipython",
    "version": 3
   },
   "file_extension": ".py",
   "mimetype": "text/x-python",
   "name": "python",
   "nbconvert_exporter": "python",
   "pygments_lexer": "ipython3",
   "version": "3.7.6"
  }
 },
 "nbformat": 4,
 "nbformat_minor": 4
}
