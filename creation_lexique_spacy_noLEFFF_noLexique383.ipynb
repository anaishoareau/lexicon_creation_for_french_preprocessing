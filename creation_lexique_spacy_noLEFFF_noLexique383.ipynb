{
 "cells": [
  {
   "cell_type": "markdown",
   "metadata": {},
   "source": [
    "# Création de lexique_spacy_noLEFFF_noLexique383.txt"
   ]
  },
  {
   "cell_type": "markdown",
   "metadata": {},
   "source": [
    "## Imports"
   ]
  },
  {
   "cell_type": "code",
   "execution_count": 1,
   "metadata": {
    "ExecuteTime": {
     "end_time": "2019-06-20T12:48:46.475424Z",
     "start_time": "2019-06-20T12:48:45.191128Z"
    }
   },
   "outputs": [],
   "source": [
    "import nltk\n",
    "from nltk.tag import StanfordPOSTagger\n",
    "import csv\n",
    "import os"
   ]
  },
  {
   "cell_type": "markdown",
   "metadata": {
    "ExecuteTime": {
     "end_time": "2019-06-20T12:42:45.572689Z",
     "start_time": "2019-06-20T12:42:45.568703Z"
    }
   },
   "source": [
    "## Initialisation du StanfordPOSTagger\n",
    "\n",
    "Il faut peut-être changer les path pour le StanfordPOSTagger et Java (JRE)."
   ]
  },
  {
   "cell_type": "code",
   "execution_count": 2,
   "metadata": {
    "ExecuteTime": {
     "end_time": "2019-06-20T12:48:46.486275Z",
     "start_time": "2019-06-20T12:48:46.477298Z"
    }
   },
   "outputs": [],
   "source": [
    "jar = './stanford-postagger-full-2018-10-16/stanford-postagger-3.9.2.jar'\n",
    "model = './stanford-postagger-full-2018-10-16/models/french.tagger'\n",
    "java_path = \"C:/Program Files (x86)/Java/jre1.8.0_241/bin/java.exe\"\n",
    "\n",
    "\n",
    "os.environ['JAVAHOME'] = java_path\n",
    "pos_tagger = StanfordPOSTagger(model, jar, encoding='utf8' )"
   ]
  },
  {
   "cell_type": "markdown",
   "metadata": {},
   "source": [
    "## Chargement de lexique383_noLEFFF"
   ]
  },
  {
   "cell_type": "code",
   "execution_count": 3,
   "metadata": {
    "ExecuteTime": {
     "end_time": "2019-06-20T12:48:46.552099Z",
     "start_time": "2019-06-20T12:48:46.490265Z"
    }
   },
   "outputs": [],
   "source": [
    "lexique383_noLEFFF = []\n",
    "\n",
    "with open('./intermediate_data/lexique383_noLEFFF.txt') as f:\n",
    "        read = csv.reader(f)\n",
    "        for row in read:\n",
    "            lexique383_noLEFFF.append(row)"
   ]
  },
  {
   "cell_type": "markdown",
   "metadata": {},
   "source": [
    "## Chargement de lexique_spacy_noLEFFF"
   ]
  },
  {
   "cell_type": "code",
   "execution_count": 4,
   "metadata": {
    "ExecuteTime": {
     "end_time": "2019-06-20T12:48:46.628894Z",
     "start_time": "2019-06-20T12:48:46.587006Z"
    }
   },
   "outputs": [],
   "source": [
    "lexique_spacy_noLEFFF = []\n",
    "\n",
    "with open('./intermediate_data/lexique_spacy_noLEFFF.txt') as f:\n",
    "        sp = csv.reader(f)\n",
    "        for row in sp:\n",
    "            lexique_spacy_noLEFFF.append(row)"
   ]
  },
  {
   "cell_type": "markdown",
   "metadata": {},
   "source": [
    "## Création du lexique_spacy_noLEFFF_noLexique383"
   ]
  },
  {
   "cell_type": "code",
   "execution_count": 5,
   "metadata": {
    "ExecuteTime": {
     "end_time": "2019-06-20T12:51:27.313982Z",
     "start_time": "2019-06-20T12:51:11.727660Z"
    }
   },
   "outputs": [],
   "source": [
    "with open('./intermediate_data/lexique_spacy_noLEFFF_noLexique383.txt', 'w') as f:\n",
    "    for i in range(0,len(lexique_spacy_noLEFFF)):\n",
    "        row_act = lexique_spacy_noLEFFF[i]\n",
    "\n",
    "        # On regarde si le mot est ou non dans lexique383\n",
    "        presence = False\n",
    "        \n",
    "        for row in lexique383_noLEFFF:\n",
    "            if row_act[0] == row[0]:\n",
    "                presence = True\n",
    "                break\n",
    "                \n",
    "        if presence == False:       \n",
    "            f.write(row_act[0].lower()+','+row_act[1]+','+row_act[2]+'\\n')\n",
    "        else:\n",
    "            presence = False"
   ]
  },
  {
   "cell_type": "code",
   "execution_count": null,
   "metadata": {},
   "outputs": [],
   "source": []
  }
 ],
 "metadata": {
  "kernelspec": {
   "display_name": "Python 3",
   "language": "python",
   "name": "python3"
  },
  "language_info": {
   "codemirror_mode": {
    "name": "ipython",
    "version": 3
   },
   "file_extension": ".py",
   "mimetype": "text/x-python",
   "name": "python",
   "nbconvert_exporter": "python",
   "pygments_lexer": "ipython3",
   "version": "3.7.6"
  },
  "toc": {
   "base_numbering": 1,
   "nav_menu": {},
   "number_sections": true,
   "sideBar": true,
   "skip_h1_title": false,
   "title_cell": "Table of Contents",
   "title_sidebar": "Contents",
   "toc_cell": false,
   "toc_position": {},
   "toc_section_display": true,
   "toc_window_display": true
  },
  "varInspector": {
   "cols": {
    "lenName": 16,
    "lenType": 16,
    "lenVar": 40
   },
   "kernels_config": {
    "python": {
     "delete_cmd_postfix": "",
     "delete_cmd_prefix": "del ",
     "library": "var_list.py",
     "varRefreshCmd": "print(var_dic_list())"
    },
    "r": {
     "delete_cmd_postfix": ") ",
     "delete_cmd_prefix": "rm(",
     "library": "var_list.r",
     "varRefreshCmd": "cat(var_dic_list()) "
    }
   },
   "types_to_exclude": [
    "module",
    "function",
    "builtin_function_or_method",
    "instance",
    "_Feature"
   ],
   "window_display": false
  }
 },
 "nbformat": 4,
 "nbformat_minor": 2
}
